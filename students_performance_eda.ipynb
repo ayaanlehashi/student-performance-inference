{
 "cells": [
  {
   "cell_type": "markdown",
   "metadata": {},
   "source": [
    "# EDA and Regression of student performance"
   ]
  },
  {
   "cell_type": "code",
   "execution_count": 52,
   "metadata": {
    "colab": {
     "base_uri": "https://localhost:8080/",
     "height": 204
    },
    "colab_type": "code",
    "id": "2MOOP-8JrfiT",
    "outputId": "38b384f7-ce4e-4214-bd1a-1af0e3a00c9d"
   },
   "outputs": [],
   "source": [
    "import pandas as pd\n",
    "import seaborn as sns\n",
    "import numpy as np\n",
    "import statsmodels.api as sm\n",
    "from statsmodels.stats.outliers_influence import variance_inflation_factor\n",
    "from matplotlib import pyplot as plt\n",
    "from scipy import stats\n",
    "\n",
    "sns.set()\n",
    "\n",
    "df = pd.read_csv(\"https://docs.google.com/spreadsheets/d/1xWJvi3Xg0URdoFDRA4hDkCfcXVLHLJgvm2rAli0-pe4/export?format=csv&id=1xWJvi3Xg0URdoFDRA4hDkCfcXVLHLJgvm2rAli0-pe4&gid=1091522786\")"
   ]
  },
  {
   "cell_type": "markdown",
   "metadata": {},
   "source": [
    "## Exploring data structure and Preprocessing."
   ]
  },
  {
   "cell_type": "code",
   "execution_count": 20,
   "metadata": {},
   "outputs": [
    {
     "name": "stdout",
     "output_type": "stream",
     "text": [
      "gender                          2\n",
      "race/ethnicity                  5\n",
      "parental level of education     6\n",
      "lunch                           2\n",
      "test preparation course         2\n",
      "math score                     81\n",
      "reading score                  72\n",
      "writing score                  77\n",
      "dtype: int64\n",
      "gender                         0\n",
      "race/ethnicity                 0\n",
      "parental level of education    0\n",
      "lunch                          0\n",
      "test preparation course        0\n",
      "math score                     0\n",
      "reading score                  0\n",
      "writing score                  0\n",
      "dtype: int64\n"
     ]
    }
   ],
   "source": [
    "print(df.nunique())\n",
    "print(df.isnull().sum())"
   ]
  },
  {
   "cell_type": "code",
   "execution_count": 53,
   "metadata": {},
   "outputs": [],
   "source": [
    "categorical_variables = ['race/ethnicity']\n",
    "\n",
    "for cols in categorical_variables:\n",
    "    df[cols]= df[cols].astype('category')\n",
    "    \n",
    "df = pd.get_dummies(df, columns = categorical_variables,drop_first=True)\n",
    "\n",
    "def education_preprocess(x):\n",
    "    if x == 'some high school':\n",
    "        return 0\n",
    "    if x == 'high school':\n",
    "        return 1\n",
    "    if x == 'some college':\n",
    "        return 2\n",
    "    if x == 'associate\\'s degree':\n",
    "        return 3\n",
    "    if x == 'bachelor\\'s degree':\n",
    "        return 4\n",
    "    if x == 'master\\'s degree':\n",
    "        return 5\n",
    "\n",
    "\n",
    "df['gender'] = df['gender'].apply(lambda x: 1 if x == 'male' else 0)\n",
    "df['lunch'] = df['lunch'].apply(lambda x: 1 if x == 'standard' else 0)\n",
    "df['test preparation course'] = df['test preparation course'].apply(lambda x: 1 if x == 'completed' else 0)\n",
    "df['parental level of education'] = df['parental level of education'].apply(education_preprocess)"
   ]
  },
  {
   "cell_type": "markdown",
   "metadata": {},
   "source": [
    "## Exploring Gender's effect on student performance"
   ]
  },
  {
   "cell_type": "code",
   "execution_count": 2,
   "metadata": {
    "colab": {
     "base_uri": "https://localhost:8080/",
     "height": 464
    },
    "colab_type": "code",
    "id": "I05ij1hAtrmh",
    "outputId": "82cace5d-5a43-4519-c56a-168224f5a89c"
   },
   "outputs": [
    {
     "data": {
      "image/png": "[encoded data removed]",
      "text/plain": [
       "<Figure size 1080x504 with 3 Axes>"
      ]
     },
     "metadata": {
      "needs_background": "light"
     },
     "output_type": "display_data"
    }
   ],
   "source": [
    "columns = ['math score','reading score','writing score']\n",
    "\n",
    "plt.figure(figsize=(15, 7))\n",
    "\n",
    "for i,col in enumerate(columns):\n",
    "  plt.subplot(1, 3, i + 1)\n",
    "  sns.boxplot(x='gender',y=col,data=df)\n",
    "  plt.title(f\"Gender effect on {col}\")\n",
    "  plt.subplots_adjust(wspace = 0.5)"
   ]
  },
  {
   "cell_type": "markdown",
   "metadata": {},
   "source": [
    "The plots show that male performes better than female in Maths. However females perform better in Reading and Writing.\n",
    "\n",
    "Lets determine if these differences happen by chance or are statistically significant.\n",
    "\n",
    "$$H0 = There \\,is \\,no \\,significant \\,difference \\,between \\,the \\,scores \\,of \\,the \\,samples \\,of \\,male \\,and \\,female \\,students.$$\n",
    "$$H1 = There \\,is \\,a \\,significant \\,difference \\,between \\,the \\,scores \\,of \\,the \\,samples \\,of \\,male \\,and \\,female \\,students.$$"
   ]
  },
  {
   "cell_type": "code",
   "execution_count": 11,
   "metadata": {
    "colab": {},
    "colab_type": "code",
    "id": "iTYaQ6lED5AS"
   },
   "outputs": [],
   "source": [
    "def significance_test(group_1,group_2,equal_variance,alpha):\n",
    "  '''\n",
    "  A function that performs an independent t test and determines if the means\n",
    "  of the groups are significantly different\n",
    "  '''\n",
    "  \n",
    "  mean_group_1 = np.mean(group_1)\n",
    "  mean_group_2 = np.mean(group_2)\n",
    "  stat,p_value = stats.ttest_ind(group_1,group_2,equal_var=equal_variance)\n",
    "  \n",
    "  if p_value < alpha:\n",
    "    print(f\"There is a statistically significant difference between the two groups {max(mean_group_1,mean_group_2)} is greater\")\n",
    "  else:\n",
    "    print(\"The two groups are not statistically significantly different\")\n",
    "    \n",
    "  "
   ]
  },
  {
   "cell_type": "code",
   "execution_count": 13,
   "metadata": {
    "colab": {
     "base_uri": "https://localhost:8080/",
     "height": 340
    },
    "colab_type": "code",
    "id": "jUdUyZgOHlJP",
    "outputId": "0c15081f-3027-4cb4-c380-c168bbe03ffd"
   },
   "outputs": [
    {
     "name": "stdout",
     "output_type": "stream",
     "text": [
      "There is a statistically significant difference between the two groups 68.72821576763485 is greater\n",
      "There is a statistically significant difference between the two groups 72.60810810810811 is greater\n",
      "There is a statistically significant difference between the two groups 72.46718146718146 is greater\n"
     ]
    }
   ],
   "source": [
    "male_math_score = df[df['gender'] == 1]['math score']\n",
    "female_math_score = df[df['gender'] == 0]['math score']\n",
    "male_reading_score = df[df['gender'] == 1]['reading score']\n",
    "female_reading_score = df[df['gender'] == 0]['reading score']\n",
    "male_writing_score = df[df['gender'] == 1]['writing score']\n",
    "female_writing_score = df[df['gender'] == 0]['writing score']\n",
    "\n",
    "significance_test(male_math_score,female_math_score,True,0.05)\n",
    "significance_test(male_reading_score,female_reading_score,True,0.05)\n",
    "significance_test(male_writing_score,female_writing_score,True,0.05)"
   ]
  },
  {
   "cell_type": "markdown",
   "metadata": {
    "colab": {},
    "colab_type": "code",
    "id": "ooJvKnTwXqt_"
   },
   "source": [
    "The statistical test confirms what the box plot shows, there is a significant difference between the two genders for each of the scores."
   ]
  },
  {
   "cell_type": "markdown",
   "metadata": {},
   "source": [
    "## Regression on Math Score"
   ]
  },
  {
   "cell_type": "code",
   "execution_count": 55,
   "metadata": {},
   "outputs": [
    {
     "data": {
      "text/html": [
       "<table class=\"simpletable\">\n",
       "<caption>OLS Regression Results</caption>\n",
       "<tr>\n",
       "  <th>Dep. Variable:</th>       <td>math score</td>    <th>  R-squared:         </th> <td>   0.251</td>\n",
       "</tr>\n",
       "<tr>\n",
       "  <th>Model:</th>                   <td>OLS</td>       <th>  Adj. R-squared:    </th> <td>   0.245</td>\n",
       "</tr>\n",
       "<tr>\n",
       "  <th>Method:</th>             <td>Least Squares</td>  <th>  F-statistic:       </th> <td>   41.58</td>\n",
       "</tr>\n",
       "<tr>\n",
       "  <th>Date:</th>             <td>Thu, 03 Oct 2019</td> <th>  Prob (F-statistic):</th> <td>1.72e-57</td>\n",
       "</tr>\n",
       "<tr>\n",
       "  <th>Time:</th>                 <td>20:27:32</td>     <th>  Log-Likelihood:    </th> <td> -3992.6</td>\n",
       "</tr>\n",
       "<tr>\n",
       "  <th>No. Observations:</th>      <td>  1000</td>      <th>  AIC:               </th> <td>   8003.</td>\n",
       "</tr>\n",
       "<tr>\n",
       "  <th>Df Residuals:</th>          <td>   991</td>      <th>  BIC:               </th> <td>   8047.</td>\n",
       "</tr>\n",
       "<tr>\n",
       "  <th>Df Model:</th>              <td>     8</td>      <th>                     </th>     <td> </td>   \n",
       "</tr>\n",
       "<tr>\n",
       "  <th>Covariance Type:</th>      <td>nonrobust</td>    <th>                     </th>     <td> </td>   \n",
       "</tr>\n",
       "</table>\n",
       "<table class=\"simpletable\">\n",
       "<tr>\n",
       "               <td></td>                  <th>coef</th>     <th>std err</th>      <th>t</th>      <th>P>|t|</th>  <th>[0.025</th>    <th>0.975]</th>  \n",
       "</tr>\n",
       "<tr>\n",
       "  <th>const</th>                       <td>   47.2572</td> <td>    1.690</td> <td>   27.958</td> <td> 0.000</td> <td>   43.940</td> <td>   50.574</td>\n",
       "</tr>\n",
       "<tr>\n",
       "  <th>gender</th>                      <td>    4.9492</td> <td>    0.838</td> <td>    5.903</td> <td> 0.000</td> <td>    3.304</td> <td>    6.594</td>\n",
       "</tr>\n",
       "<tr>\n",
       "  <th>parental level of education</th> <td>    1.6662</td> <td>    0.287</td> <td>    5.796</td> <td> 0.000</td> <td>    1.102</td> <td>    2.230</td>\n",
       "</tr>\n",
       "<tr>\n",
       "  <th>lunch</th>                       <td>   10.8994</td> <td>    0.873</td> <td>   12.488</td> <td> 0.000</td> <td>    9.187</td> <td>   12.612</td>\n",
       "</tr>\n",
       "<tr>\n",
       "  <th>test preparation course</th>     <td>    5.6195</td> <td>    0.872</td> <td>    6.448</td> <td> 0.000</td> <td>    3.909</td> <td>    7.330</td>\n",
       "</tr>\n",
       "<tr>\n",
       "  <th>race/ethnicity_group B</th>      <td>    1.8897</td> <td>    1.697</td> <td>    1.114</td> <td> 0.266</td> <td>   -1.440</td> <td>    5.220</td>\n",
       "</tr>\n",
       "<tr>\n",
       "  <th>race/ethnicity_group C</th>      <td>    2.3755</td> <td>    1.589</td> <td>    1.495</td> <td> 0.135</td> <td>   -0.743</td> <td>    5.494</td>\n",
       "</tr>\n",
       "<tr>\n",
       "  <th>race/ethnicity_group D</th>      <td>    5.3573</td> <td>    1.621</td> <td>    3.304</td> <td> 0.001</td> <td>    2.176</td> <td>    8.539</td>\n",
       "</tr>\n",
       "<tr>\n",
       "  <th>race/ethnicity_group E</th>      <td>   10.1181</td> <td>    1.798</td> <td>    5.629</td> <td> 0.000</td> <td>    6.591</td> <td>   13.645</td>\n",
       "</tr>\n",
       "</table>\n",
       "<table class=\"simpletable\">\n",
       "<tr>\n",
       "  <th>Omnibus:</th>       <td> 8.601</td> <th>  Durbin-Watson:     </th> <td>   2.041</td>\n",
       "</tr>\n",
       "<tr>\n",
       "  <th>Prob(Omnibus):</th> <td> 0.014</td> <th>  Jarque-Bera (JB):  </th> <td>   8.767</td>\n",
       "</tr>\n",
       "<tr>\n",
       "  <th>Skew:</th>          <td>-0.225</td> <th>  Prob(JB):          </th> <td>  0.0125</td>\n",
       "</tr>\n",
       "<tr>\n",
       "  <th>Kurtosis:</th>      <td> 2.911</td> <th>  Cond. No.          </th> <td>    22.1</td>\n",
       "</tr>\n",
       "</table><br/><br/>Warnings:<br/>[1] Standard Errors assume that the covariance matrix of the errors is correctly specified."
      ],
      "text/plain": [
       "<class 'statsmodels.iolib.summary.Summary'>\n",
       "\"\"\"\n",
       "                            OLS Regression Results                            \n",
       "==============================================================================\n",
       "Dep. Variable:             math score   R-squared:                       0.251\n",
       "Model:                            OLS   Adj. R-squared:                  0.245\n",
       "Method:                 Least Squares   F-statistic:                     41.58\n",
       "Date:                Thu, 03 Oct 2019   Prob (F-statistic):           1.72e-57\n",
       "Time:                        20:27:32   Log-Likelihood:                -3992.6\n",
       "No. Observations:                1000   AIC:                             8003.\n",
       "Df Residuals:                     991   BIC:                             8047.\n",
       "Df Model:                           8                                         \n",
       "Covariance Type:            nonrobust                                         \n",
       "===============================================================================================\n",
       "                                  coef    std err          t      P>|t|      [0.025      0.975]\n",
       "-----------------------------------------------------------------------------------------------\n",
       "const                          47.2572      1.690     27.958      0.000      43.940      50.574\n",
       "gender                          4.9492      0.838      5.903      0.000       3.304       6.594\n",
       "parental level of education     1.6662      0.287      5.796      0.000       1.102       2.230\n",
       "lunch                          10.8994      0.873     12.488      0.000       9.187      12.612\n",
       "test preparation course         5.6195      0.872      6.448      0.000       3.909       7.330\n",
       "race/ethnicity_group B          1.8897      1.697      1.114      0.266      -1.440       5.220\n",
       "race/ethnicity_group C          2.3755      1.589      1.495      0.135      -0.743       5.494\n",
       "race/ethnicity_group D          5.3573      1.621      3.304      0.001       2.176       8.539\n",
       "race/ethnicity_group E         10.1181      1.798      5.629      0.000       6.591      13.645\n",
       "==============================================================================\n",
       "Omnibus:                        8.601   Durbin-Watson:                   2.041\n",
       "Prob(Omnibus):                  0.014   Jarque-Bera (JB):                8.767\n",
       "Skew:                          -0.225   Prob(JB):                       0.0125\n",
       "Kurtosis:                       2.911   Cond. No.                         22.1\n",
       "==============================================================================\n",
       "\n",
       "Warnings:\n",
       "[1] Standard Errors assume that the covariance matrix of the errors is correctly specified.\n",
       "\"\"\""
      ]
     },
     "execution_count": 55,
     "metadata": {},
     "output_type": "execute_result"
    }
   ],
   "source": [
    "cols = [col for col in df.columns if col not in ['writing score', 'reading score','math score']]\n",
    "X = df[cols]\n",
    "y = df['math score']\n",
    "X = sm.add_constant(X)\n",
    "\n",
    "model = sm.OLS(y, X).fit()\n",
    "model.summary()"
   ]
  },
  {
   "cell_type": "markdown",
   "metadata": {},
   "source": [
    "## QQ-Plot of residuals\n",
    "\n",
    "The qq plot suggests that residuals are fairly normally distributed and assumption is met."
   ]
  },
  {
   "cell_type": "code",
   "execution_count": 57,
   "metadata": {},
   "outputs": [
    {
     "data": {
      "image/png": "[encoded data removed]",
      "text/plain": [
       "<Figure size 432x288 with 1 Axes>"
      ]
     },
     "metadata": {},
     "output_type": "display_data"
    }
   ],
   "source": [
    "residuals = model.resid\n",
    "sm.qqplot(residuals,fit=True,line='45')\n",
    "plt.show()"
   ]
  },
  {
   "cell_type": "markdown",
   "metadata": {},
   "source": [
    "## Findings"
   ]
  },
  {
   "cell_type": "markdown",
   "metadata": {},
   "source": [
    "Observing the plots and the statistical test we can see that gender has a significant differene on the test scores.\n",
    "\n",
    "I ran into the dummy variable trap whilst building a regression model to infer the individual effects of the independent variables on the dependent variable. To solve this problem i decided to remove the first generated dummy variable. \n",
    "\n",
    "The regression model gives us further insight into the effects of the independent variables.\n",
    "\n",
    "The variable that seems to have the strongest effect is lunch. Students who have standard lunch on average have 10.9±0.9 higher marks on the maths test than students who have a free/reduced lunch. This could be because of family wealth. Students that can afford standard lunches tned to be from more wealthier families and might have the chance to enrol on tution courses.\n",
    "\n",
    "The next insight from the regression might be controversial. According to this model the race of the student has an impact on their math scores. I had to remove the race/ethnicity_group A to avoid the dummy variable trap and multicolinearity within the model. So the coeffiencets tell us that on average race/ethnicty_group E scores 10.2±1.8 higher on their math scores than race/ethnicity_group A (as this is our reference point due to removal). "
   ]
  }
 ],
 "metadata": {
  "accelerator": "GPU",
  "colab": {
   "collapsed_sections": [],
   "name": "students-performance-eda.ipynb",
   "provenance": []
  },
  "kernelspec": {
   "display_name": "Python 3",
   "language": "python",
   "name": "python3"
  },
  "language_info": {
   "codemirror_mode": {
    "name": "ipython",
    "version": 3
   },
   "file_extension": ".py",
   "mimetype": "text/x-python",
   "name": "python",
   "nbconvert_exporter": "python",
   "pygments_lexer": "ipython3",
   "version": "3.7.4"
  }
 },
 "nbformat": 4,
 "nbformat_minor": 1
}
